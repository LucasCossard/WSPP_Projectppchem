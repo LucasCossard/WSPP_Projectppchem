{
  "nbformat": 4,
  "nbformat_minor": 0,
  "metadata": {
    "colab": {
      "provenance": [],
      "include_colab_link": true
    },
    "kernelspec": {
      "name": "python3",
      "display_name": "Python 3"
    },
    "language_info": {
      "name": "python"
    }
  },
  "cells": [
    {
      "cell_type": "markdown",
      "metadata": {
        "id": "view-in-github",
        "colab_type": "text"
      },
      "source": [
        "<a href=\"https://colab.research.google.com/github/Nohalyan/Projetppchem/blob/Lucas1/Notebook_WSP.ipynb\" target=\"_parent\"><img src=\"https://colab.research.google.com/assets/colab-badge.svg\" alt=\"Open In Colab\"/></a>"
      ]
    },
    {
      "cell_type": "markdown",
      "source": [
        "#Water Solubility Predisction\n",
        "\n",
        "This notebook is the core of our Water Solubility Prediction project. This is where we collected, sorted and cleaned the data, as well as selecting, testing and training our prediction models.\n",
        "\n",
        "This notebook is divided into sections:\n",
        "1. Modules and Libraries\n",
        "2. Solubility Data *(optional)*\n",
        "3. Calculation of RDkit Molecular Descriptors *(optional)*\n",
        "4. Training and Validation set\n",
        "5. Select Machine Learning Models\n",
        "6. Fine-tuning\n",
        "7. Models for training and test data\n",
        "\n",
        "Sections 2 and 3 are optional, as sorted and cleaned data can be retrieved directly in section 4.1.\n"
      ],
      "metadata": {
        "id": "9we0xsQKCIis"
      }
    },
    {
      "cell_type": "markdown",
      "source": [
        "## 1 Import Relevant Modules and Libraries\n",
        "\n",
        "We will start by importing the modules and libraries essential for this project.\n"
      ],
      "metadata": {
        "id": "9VBM8XdnDHfh"
      }
    },
    {
      "cell_type": "code",
      "source": [
        "# Install all libraries used in this project\n",
        "!pip install pathlib numpy pandas rdkit matplotlib scikit-learn lightgbm lazypredict tqdm"
      ],
      "metadata": {
        "id": "GFhpnlDlEGpP"
      },
      "execution_count": null,
      "outputs": []
    },
    {
      "cell_type": "code",
      "execution_count": 5,
      "metadata": {
        "id": "xDEhgWFsCC0T"
      },
      "outputs": [],
      "source": [
        "# Install all modules used in this project\n",
        "from pathlib import Path\n",
        "\n",
        "import warnings\n",
        "warnings.filterwarnings(\"ignore\")\n",
        "\n",
        "import numpy as np\n",
        "\n",
        "import pandas as pd\n",
        "\n",
        "from rdkit import Chem\n",
        "from rdkit.Chem import AllChem\n",
        "from rdkit import Chem\n",
        "from rdkit.Chem import Descriptors\n",
        "from rdkit.ML.Descriptors import MoleculeDescriptors\n",
        "\n",
        "from matplotlib import pyplot as plt\n",
        "import matplotlib.patches as mpatches\n",
        "\n",
        "import seaborn as sn\n",
        "\n",
        "from sklearn.model_selection import train_test_split\n",
        "from sklearn.model_selection import GridSearchCV\n",
        "from sklearn.preprocessing import StandardScaler\n",
        "from sklearn.metrics import r2_score, mean_squared_error\n",
        "\n",
        "from lightgbm import LGBMRegressor\n",
        "\n",
        "from sklearn.ensemble import RandomForestRegressor\n",
        "from sklearn.impute import SimpleImputer\n",
        "\n",
        "import lazypredict\n",
        "from lazypredict.Supervised import LazyRegressor\n",
        "\n",
        "from tqdm import tqdm\n",
        "\n"
      ]
    },
    {
      "cell_type": "markdown",
      "source": [
        "# 2. Solubility Data"
      ],
      "metadata": {
        "id": "OcKv90-s7Y00"
      }
    },
    {
      "cell_type": "markdown",
      "source": [
        "## 2.1 Let's get the Solubility Data\n",
        "\n",
        "Firstly, we will acquire solubility data from gashawmg's repository, accessible at https://github.com/gashawmg. Subsequently, we will conduct an exploratory data analysis on the acquired dataset."
      ],
      "metadata": {
        "id": "_HeTUCurHCnk"
      }
    },
    {
      "cell_type": "code",
      "source": [
        "!wget https://raw.githubusercontent.com/Nohalyan/Projetppchem/main/Data/Data_Solubility.csv"
      ],
      "metadata": {
        "id": "XiN0eigVHNgz",
        "colab": {
          "base_uri": "https://localhost:8080/"
        },
        "outputId": "51aa12d1-fc93-4b4a-9afc-410670c1cb32"
      },
      "execution_count": null,
      "outputs": [
        {
          "output_type": "stream",
          "name": "stdout",
          "text": [
            "--2024-04-29 09:03:27--  https://raw.githubusercontent.com/Nohalyan/Projetppchem/main/Data_Solubility.csv\n",
            "Resolving raw.githubusercontent.com (raw.githubusercontent.com)... 185.199.110.133, 185.199.108.133, 185.199.109.133, ...\n",
            "Connecting to raw.githubusercontent.com (raw.githubusercontent.com)|185.199.110.133|:443... connected.\n",
            "HTTP request sent, awaiting response... 200 OK\n",
            "Length: 987356 (964K) [text/plain]\n",
            "Saving to: ‘Data_Solubility.csv’\n",
            "\n",
            "\rData_Solubility.csv   0%[                    ]       0  --.-KB/s               \rData_Solubility.csv 100%[===================>] 964.21K  --.-KB/s    in 0.008s  \n",
            "\n",
            "2024-04-29 09:03:27 (122 MB/s) - ‘Data_Solubility.csv’ saved [987356/987356]\n",
            "\n"
          ]
        }
      ]
    },
    {
      "cell_type": "markdown",
      "source": [
        "Let's open the file ans confirm that it exist."
      ],
      "metadata": {
        "id": "MNh8CNiSb3c8"
      }
    },
    {
      "cell_type": "code",
      "source": [
        "# Create a Path object for the current directory, in our case /content/\n",
        "current_directory = Path.cwd()\n",
        "print(\"Current Directory:\", current_directory.resolve())\n",
        "\n",
        "file_path = current_directory / \"Data_Solubility.csv\"\n",
        "\n",
        "# Reading the contents of the file and check that the file exists\n",
        "if file_path.exists():\n",
        "    with file_path.open(\"r\") as file:\n",
        "        content = file.read()\n",
        "        print(content)\n",
        "else:\n",
        "    print(\"The file does not exist.\")\n"
      ],
      "metadata": {
        "id": "NYPnESo9bPPp"
      },
      "execution_count": null,
      "outputs": []
    },
    {
      "cell_type": "markdown",
      "source": [
        "The file use semicicolon as delimiter, so let's open the file and use semicicolon as delimiter:"
      ],
      "metadata": {
        "id": "HhmAA3fHh1kK"
      }
    },
    {
      "cell_type": "code",
      "source": [
        "# Open a file containing descriptors and yield\n",
        "data_solubility = pd.read_csv(\"/content/Data_Solubility.csv\", delimiter=';')"
      ],
      "metadata": {
        "id": "3cJRK4pwWNwn"
      },
      "execution_count": null,
      "outputs": []
    },
    {
      "cell_type": "markdown",
      "source": [
        "Now we will check the data see if it is what we want."
      ],
      "metadata": {
        "id": "gEJ2RcUqhktQ"
      }
    },
    {
      "cell_type": "code",
      "source": [
        "data_solubility.shape"
      ],
      "metadata": {
        "id": "2egFBYgjf17S"
      },
      "execution_count": null,
      "outputs": []
    },
    {
      "cell_type": "code",
      "source": [
        "data_solubility.head()"
      ],
      "metadata": {
        "id": "V9zwa1_mhblV"
      },
      "execution_count": null,
      "outputs": []
    },
    {
      "cell_type": "markdown",
      "source": [
        "## 2.2 Data Cleaning\n",
        "\n",
        "Now that we've got our data set, we need to clean it up. To do this, we're going to remove non-numericals (NaN) and null values. We'll also sort outliers and make SMILES canonical, so as to duplicate them and obtain a ready-to-use data set."
      ],
      "metadata": {
        "id": "rsPHJbgfinOQ"
      }
    },
    {
      "cell_type": "markdown",
      "source": [
        "### 2.2.1 Remove NaN or null values\n",
        "\n",
        "We wil start by removing non-numerical values and valeurs that are null:"
      ],
      "metadata": {
        "id": "6EmTTwOx74Mw"
      }
    },
    {
      "cell_type": "code",
      "source": [
        "data_solubility.SMILES.isnull().sum()\n",
        "data_solubility.dropna(inplace=True)\n",
        "data_solubility.shape"
      ],
      "metadata": {
        "id": "6wnyNXZkicm3",
        "colab": {
          "base_uri": "https://localhost:8080/"
        },
        "outputId": "df8ebea1-267d-42ea-b8b6-46f797367b3a"
      },
      "execution_count": null,
      "outputs": [
        {
          "output_type": "execute_result",
          "data": {
            "text/plain": [
              "(9943, 6)"
            ]
          },
          "metadata": {},
          "execution_count": 19
        }
      ]
    },
    {
      "cell_type": "markdown",
      "source": [
        "As we can see, the shape is still the same, the data has already been cleaned of non-numerical and null values.\n",
        "\n",
        "###2.2.2 Remove outliers\n",
        "\n",
        "Then, we will remove outliers from the data. Using a boxplot, we can easely visualize outliers:\n"
      ],
      "metadata": {
        "id": "QC27TZqri8CG"
      }
    },
    {
      "cell_type": "code",
      "source": [
        "sn.set_theme()\n",
        "sn.displot(data=data_solubility, x=\"logS\", binwidth=1)"
      ],
      "metadata": {
        "id": "kuD5t60TnrX5",
        "colab": {
          "base_uri": "https://localhost:8080/",
          "height": 519
        },
        "outputId": "e9fecfde-42de-4423-9784-0861c2fa8a69"
      },
      "execution_count": null,
      "outputs": [
        {
          "output_type": "execute_result",
          "data": {
            "text/plain": [
              "<seaborn.axisgrid.FacetGrid at 0x7c1e3d9632b0>"
            ]
          },
          "metadata": {},
          "execution_count": 20
        },
        {
          "output_type": "display_data",
          "data": {
            "text/plain": [
              "<Figure size 500x500 with 1 Axes>"
            ],
            "image/png": "[encoded data removed]"
          },
          "metadata": {}
        }
      ]
    },
    {
      "cell_type": "markdown",
      "source": [
        "We will then filter compounds that follow as close as normal distribution. We consider values between -7.5 and 1.7 as following a normal distribution.\n"
      ],
      "metadata": {
        "id": "MSFjaKMyqCV-"
      }
    },
    {
      "cell_type": "code",
      "source": [
        "new_data_solubility = data_solubility[data_solubility.logS.apply(lambda x: x > -7.5 and x < 1.7)]"
      ],
      "metadata": {
        "id": "Ht-zgHIvqIJ6"
      },
      "execution_count": null,
      "outputs": []
    },
    {
      "cell_type": "markdown",
      "source": [
        "We will generate a histogram to visualize the distribution of the new data."
      ],
      "metadata": {
        "id": "QHgDSAQ8rWZr"
      }
    },
    {
      "cell_type": "code",
      "source": [
        "sn.displot(data=new_data_solubility, x='logS', binwidth=1,kde=True)\n",
        "new_data_solubility.shape"
      ],
      "metadata": {
        "id": "9wjGJ5AGrW6B",
        "colab": {
          "base_uri": "https://localhost:8080/",
          "height": 519
        },
        "outputId": "cbc76a2b-ec3f-47ee-efcd-d22affbfd33a"
      },
      "execution_count": null,
      "outputs": [
        {
          "output_type": "execute_result",
          "data": {
            "text/plain": [
              "(9648, 6)"
            ]
          },
          "metadata": {},
          "execution_count": 22
        },
        {
          "output_type": "display_data",
          "data": {
            "text/plain": [
              "<Figure size 500x500 with 1 Axes>"
            ],
            "image/png": "[encoded data removed]"
          },
          "metadata": {}
        }
      ]
    },
    {
      "cell_type": "markdown",
      "source": [
        "### 2.2.3 Remove Duplicates\n",
        "\n",
        "Then, we will remove duplicate by generating canonical SMILES."
      ],
      "metadata": {
        "id": "lDjkwQEwlcMz"
      }
    },
    {
      "cell_type": "code",
      "source": [
        "# Generate a canonical SMILES function\n",
        "def canonical_SMILES(smiles):\n",
        "    canon_smls = [Chem.CanonSmiles(smls) for smls in smiles]\n",
        "    return canon_smls"
      ],
      "metadata": {
        "id": "KydIsfXejaJu"
      },
      "execution_count": 10,
      "outputs": []
    },
    {
      "cell_type": "code",
      "source": [
        "# Generate canonical Smiles using the function\n",
        "canon_smiles = canonical_SMILES(new_data_solubility.SMILES)\n",
        "\n",
        "# Replace SMILES column with canonical SMILES\n",
        "new_data_solubility[\"SMILES\"] = canon_smiles\n",
        "\n",
        "# Create a list for duplicate smiles\n",
        "duplicate_smiles = new_data_solubility[new_data_solubility['SMILES'].duplicated()]['SMILES'].values\n",
        "len(duplicate_smiles)"
      ],
      "metadata": {
        "id": "4MDLZcMzjWtP"
      },
      "execution_count": null,
      "outputs": []
    },
    {
      "cell_type": "markdown",
      "source": [
        "Upon analysis,we found out that there are six duplicate entries. These duplicates will be filtered out and the dataset will be sorted for improved readability."
      ],
      "metadata": {
        "id": "I7qNi08VkYMz"
      }
    },
    {
      "cell_type": "code",
      "source": [
        "new_data_solubility[new_data_solubility['SMILES'].isin(duplicate_smiles)].sort_values(by=['SMILES'])"
      ],
      "metadata": {
        "id": "P73Yy1K7kXzV"
      },
      "execution_count": null,
      "outputs": []
    },
    {
      "cell_type": "markdown",
      "source": [
        "We removed rows containing duplicate SMILES, retaining the first occurrence of each structure."
      ],
      "metadata": {
        "id": "QRSA4J581bCQ"
      }
    },
    {
      "cell_type": "code",
      "source": [
        "data_solubility_cleaned = new_data_solubility.drop_duplicates(subset=['SMILES'], keep='first')\n",
        "data_solubility_cleaned.shape\n",
        "data_solubility_cleaned.head()"
      ],
      "metadata": {
        "id": "jexwvrgv1lSe"
      },
      "execution_count": null,
      "outputs": []
    },
    {
      "cell_type": "markdown",
      "source": [
        "### 2.2.4 Filter training data\n",
        "With the dataset in hand, our next step involves assembling a test set comprising 100 drug-like compounds. These compounds were sourced from https://github.com/PatWalters/solubility."
      ],
      "metadata": {
        "id": "HXSd0vY02KUS"
      }
    },
    {
      "cell_type": "code",
      "source": [
        "!wget https://raw.githubusercontent.com/Nohalyan/Projetppchem/main/Data/Data_Drug_Like_Solubility.csv"
      ],
      "metadata": {
        "id": "6AsBNHVfErm_",
        "colab": {
          "base_uri": "https://localhost:8080/"
        },
        "outputId": "df53d0a9-a0e1-4a97-f66d-a6c431556ee8"
      },
      "execution_count": 3,
      "outputs": [
        {
          "output_type": "stream",
          "name": "stdout",
          "text": [
            "--2024-04-30 11:12:14--  https://raw.githubusercontent.com/Nohalyan/Projetppchem/main/Data/Data_Drug_Like_Solubility.csv\n",
            "Resolving raw.githubusercontent.com (raw.githubusercontent.com)... 185.199.108.133, 185.199.109.133, 185.199.110.133, ...\n",
            "Connecting to raw.githubusercontent.com (raw.githubusercontent.com)|185.199.108.133|:443... connected.\n",
            "HTTP request sent, awaiting response... 200 OK\n",
            "Length: 5557 (5.4K) [text/plain]\n",
            "Saving to: ‘Data_Drug_Like_Solubility.csv’\n",
            "\n",
            "\r          Data_Drug   0%[                    ]       0  --.-KB/s               \rData_Drug_Like_Solu 100%[===================>]   5.43K  --.-KB/s    in 0s      \n",
            "\n",
            "2024-04-30 11:12:14 (44.2 MB/s) - ‘Data_Drug_Like_Solubility.csv’ saved [5557/5557]\n",
            "\n"
          ]
        }
      ]
    },
    {
      "cell_type": "code",
      "source": [
        "# Create a Path object for the current directory, in our case /content/\n",
        "current_directory_dl = Path.cwd()\n",
        "print(\"Current Directory:\", current_directory.resolve())\n",
        "\n",
        "file_path_dl = current_directory / \"Data_Drug_Like_Solubility.csv\"\n",
        "\n",
        "# Reading the contents of the file and check that the file exists\n",
        "if file_path.exists():\n",
        "    with file_path.open(\"r\") as file:\n",
        "        content = file.read()\n",
        "#        print(content)\n",
        "else:\n",
        "    print(\"The file does not exist.\")"
      ],
      "metadata": {
        "id": "fxxXu8QdElDW",
        "colab": {
          "base_uri": "https://localhost:8080/"
        },
        "outputId": "c5726887-3ff8-41aa-f14b-e72cba7810b2"
      },
      "execution_count": 6,
      "outputs": [
        {
          "output_type": "stream",
          "name": "stdout",
          "text": [
            "Current Directory: /content\n",
            "The file does not exist.\n"
          ]
        }
      ]
    },
    {
      "cell_type": "code",
      "source": [
        "data_dl = pd.read_csv(\"/content/Data_Drug_Like_Solubility.csv\", delimiter=';')\n",
        "data_dl.shape"
      ],
      "metadata": {
        "id": "9uz_TeGiFRWj",
        "colab": {
          "base_uri": "https://localhost:8080/"
        },
        "outputId": "285ea350-bebb-4485-96bc-a9507d24415d"
      },
      "execution_count": 7,
      "outputs": [
        {
          "output_type": "execute_result",
          "data": {
            "text/plain": [
              "(100, 3)"
            ]
          },
          "metadata": {},
          "execution_count": 7
        }
      ]
    },
    {
      "cell_type": "code",
      "source": [
        "data_dl.head()"
      ],
      "metadata": {
        "id": "2U7jAFxBGt4i"
      },
      "execution_count": null,
      "outputs": []
    },
    {
      "cell_type": "code",
      "source": [
        "# Generate canonical Smiles\n",
        "canon_smiles = canonical_SMILES(data_dl.SMILES)\n",
        "\n",
        "# Replace SMILES column wit Canonical SMILES\n",
        "data_dl[\"SMILES\"] = canon_smiles\n",
        "\n",
        "# Create a list for duplicate smiles\n",
        "duplicate_data_dl_smiles = data_dl[data_dl['SMILES'].duplicated()]['SMILES'].values\n",
        "len(duplicate_data_dl_smiles)"
      ],
      "metadata": {
        "id": "tLHQ1dgrHL-m"
      },
      "execution_count": null,
      "outputs": []
    },
    {
      "cell_type": "markdown",
      "source": [
        "Now we need to check that there are no duplicates between the data set and the test data set."
      ],
      "metadata": {
        "id": "TgDAlHuCF0Vd"
      }
    },
    {
      "cell_type": "code",
      "source": [
        "# Molecules used in training and test of the model\n",
        "data_dl_SMILES = data_dl.SMILES.values\n",
        "\n",
        "# Filter molecules that are not present in the test set\n",
        "data_cleaned_final = data_solubility_cleaned[~data_solubility_cleaned['SMILES'].isin(data_dl_SMILES)]\n",
        "print(f'Compounds present in training set:{len(data_solubility_cleaned) - len(data_cleaned_final)}')\n",
        "data_cleaned_final.shape"
      ],
      "metadata": {
        "id": "akgVYCbtHqwk"
      },
      "execution_count": null,
      "outputs": []
    },
    {
      "cell_type": "code",
      "source": [
        "# Save the dataframe to a CSV file\n",
        "data_cleaned_final.to_csv('Data_Cleaned_Final.csv', index=False)"
      ],
      "metadata": {
        "id": "Rql4HJ_sGOia"
      },
      "execution_count": null,
      "outputs": []
    },
    {
      "cell_type": "code",
      "source": [
        "data_dl= data_dl[data_dl['LogS exp (mol/L)'].apply(lambda x: x > -7.5 and x < 1.7)]\n",
        "data_dl"
      ],
      "metadata": {
        "id": "jEoNO8CMLVqZ",
        "colab": {
          "base_uri": "https://localhost:8080/",
          "height": 423
        },
        "outputId": "2f0e0a3a-717a-4884-bff3-034f6be6af91"
      },
      "execution_count": 18,
      "outputs": [
        {
          "output_type": "execute_result",
          "data": {
            "text/plain": [
              "      Chemical name                                             SMILES  \\\n",
              "0       Acetanilide                                    CC(=O)Nc1ccccc1   \n",
              "1         Adenosine    Nc1ncnc2c1ncn2[C@@H]1O[C@H](CO)[C@@H](O)[C@H]1O   \n",
              "2       Allopurinol                                  Oc1ncnc2[nH]ncc12   \n",
              "3      Trimethoprim                    COc1cc(Cc2cnc(N)nc2N)cc(OC)c1OC   \n",
              "4     Acetazolamide                         CC(=O)Nc1nnc(S(N)(=O)=O)s1   \n",
              "..              ...                                                ...   \n",
              "95    Sulfanilamide                              Nc1ccc(S(N)(=O)=O)cc1   \n",
              "96       Gliclazide            Cc1ccc(S(=O)(=O)NC(=O)NN2CC3CCCC3C2)cc1   \n",
              "97  Trihexyphenidyl                   OC(CCN1CCCCC1)(c1ccccc1)C1CCCCC1   \n",
              "98     Triphenylene                       c1ccc2c(c1)c1ccccc1c1ccccc21   \n",
              "99     Mifepristone  CC#C[C@]1(O)CC[C@H]2[C@@H]3CCC4=CC(=O)CCC4=C3[...   \n",
              "\n",
              "    LogS exp (mol/L)  \n",
              "0              -1.40  \n",
              "1              -1.73  \n",
              "2              -2.26  \n",
              "3              -2.95  \n",
              "4              -2.44  \n",
              "..               ...  \n",
              "95             -1.36  \n",
              "96             -4.29  \n",
              "97             -5.20  \n",
              "98             -6.73  \n",
              "99             -5.90  \n",
              "\n",
              "[98 rows x 3 columns]"
            ],
            "text/html": [
              "\n",
              "  <div id=\"df-369dac9a-971e-488f-87db-fc3ce610b8ed\" class=\"colab-df-container\">\n",
              "    <div>\n",
              "<style scoped>\n",
              "    .dataframe tbody tr th:only-of-type {\n",
              "        vertical-align: middle;\n",
              "    }\n",
              "\n",
              "    .dataframe tbody tr th {\n",
              "        vertical-align: top;\n",
              "    }\n",
              "\n",
              "    .dataframe thead th {\n",
              "        text-align: right;\n",
              "    }\n",
              "</style>\n",
              "<table border=\"1\" class=\"dataframe\">\n",
              "  <thead>\n",
              "    <tr style=\"text-align: right;\">\n",
              "      <th></th>\n",
              "      <th>Chemical name</th>\n",
              "      <th>SMILES</th>\n",
              "      <th>LogS exp (mol/L)</th>\n",
              "    </tr>\n",
              "  </thead>\n",
              "  <tbody>\n",
              "    <tr>\n",
              "      <th>0</th>\n",
              "      <td>Acetanilide</td>\n",
              "      <td>CC(=O)Nc1ccccc1</td>\n",
              "      <td>-1.40</td>\n",
              "    </tr>\n",
              "    <tr>\n",
              "      <th>1</th>\n",
              "      <td>Adenosine</td>\n",
              "      <td>Nc1ncnc2c1ncn2[C@@H]1O[C@H](CO)[C@@H](O)[C@H]1O</td>\n",
              "      <td>-1.73</td>\n",
              "    </tr>\n",
              "    <tr>\n",
              "      <th>2</th>\n",
              "      <td>Allopurinol</td>\n",
              "      <td>Oc1ncnc2[nH]ncc12</td>\n",
              "      <td>-2.26</td>\n",
              "    </tr>\n",
              "    <tr>\n",
              "      <th>3</th>\n",
              "      <td>Trimethoprim</td>\n",
              "      <td>COc1cc(Cc2cnc(N)nc2N)cc(OC)c1OC</td>\n",
              "      <td>-2.95</td>\n",
              "    </tr>\n",
              "    <tr>\n",
              "      <th>4</th>\n",
              "      <td>Acetazolamide</td>\n",
              "      <td>CC(=O)Nc1nnc(S(N)(=O)=O)s1</td>\n",
              "      <td>-2.44</td>\n",
              "    </tr>\n",
              "    <tr>\n",
              "      <th>...</th>\n",
              "      <td>...</td>\n",
              "      <td>...</td>\n",
              "      <td>...</td>\n",
              "    </tr>\n",
              "    <tr>\n",
              "      <th>95</th>\n",
              "      <td>Sulfanilamide</td>\n",
              "      <td>Nc1ccc(S(N)(=O)=O)cc1</td>\n",
              "      <td>-1.36</td>\n",
              "    </tr>\n",
              "    <tr>\n",
              "      <th>96</th>\n",
              "      <td>Gliclazide</td>\n",
              "      <td>Cc1ccc(S(=O)(=O)NC(=O)NN2CC3CCCC3C2)cc1</td>\n",
              "      <td>-4.29</td>\n",
              "    </tr>\n",
              "    <tr>\n",
              "      <th>97</th>\n",
              "      <td>Trihexyphenidyl</td>\n",
              "      <td>OC(CCN1CCCCC1)(c1ccccc1)C1CCCCC1</td>\n",
              "      <td>-5.20</td>\n",
              "    </tr>\n",
              "    <tr>\n",
              "      <th>98</th>\n",
              "      <td>Triphenylene</td>\n",
              "      <td>c1ccc2c(c1)c1ccccc1c1ccccc21</td>\n",
              "      <td>-6.73</td>\n",
              "    </tr>\n",
              "    <tr>\n",
              "      <th>99</th>\n",
              "      <td>Mifepristone</td>\n",
              "      <td>CC#C[C@]1(O)CC[C@H]2[C@@H]3CCC4=CC(=O)CCC4=C3[...</td>\n",
              "      <td>-5.90</td>\n",
              "    </tr>\n",
              "  </tbody>\n",
              "</table>\n",
              "<p>98 rows × 3 columns</p>\n",
              "</div>\n",
              "    <div class=\"colab-df-buttons\">\n",
              "\n",
              "  <div class=\"colab-df-container\">\n",
              "    <button class=\"colab-df-convert\" onclick=\"convertToInteractive('df-369dac9a-971e-488f-87db-fc3ce610b8ed')\"\n",
              "            title=\"Convert this dataframe to an interactive table.\"\n",
              "            style=\"display:none;\">\n",
              "\n",
              "  <svg xmlns=\"http://www.w3.org/2000/svg\" height=\"24px\" viewBox=\"0 -960 960 960\">\n",
              "    <path d=\"M120-120v-720h720v720H120Zm60-500h600v-160H180v160Zm220 220h160v-160H400v160Zm0 220h160v-160H400v160ZM180-400h160v-160H180v160Zm440 0h160v-160H620v160ZM180-180h160v-160H180v160Zm440 0h160v-160H620v160Z\"/>\n",
              "  </svg>\n",
              "    </button>\n",
              "\n",
              "  <style>\n",
              "    .colab-df-container {\n",
              "      display:flex;\n",
              "      gap: 12px;\n",
              "    }\n",
              "\n",
              "    .colab-df-convert {\n",
              "      background-color: #E8F0FE;\n",
              "      border: none;\n",
              "      border-radius: 50%;\n",
              "      cursor: pointer;\n",
              "      display: none;\n",
              "      fill: #1967D2;\n",
              "      height: 32px;\n",
              "      padding: 0 0 0 0;\n",
              "      width: 32px;\n",
              "    }\n",
              "\n",
              "    .colab-df-convert:hover {\n",
              "      background-color: #E2EBFA;\n",
              "      box-shadow: 0px 1px 2px rgba(60, 64, 67, 0.3), 0px 1px 3px 1px rgba(60, 64, 67, 0.15);\n",
              "      fill: #174EA6;\n",
              "    }\n",
              "\n",
              "    .colab-df-buttons div {\n",
              "      margin-bottom: 4px;\n",
              "    }\n",
              "\n",
              "    [theme=dark] .colab-df-convert {\n",
              "      background-color: #3B4455;\n",
              "      fill: #D2E3FC;\n",
              "    }\n",
              "\n",
              "    [theme=dark] .colab-df-convert:hover {\n",
              "      background-color: #434B5C;\n",
              "      box-shadow: 0px 1px 3px 1px rgba(0, 0, 0, 0.15);\n",
              "      filter: drop-shadow(0px 1px 2px rgba(0, 0, 0, 0.3));\n",
              "      fill: #FFFFFF;\n",
              "    }\n",
              "  </style>\n",
              "\n",
              "    <script>\n",
              "      const buttonEl =\n",
              "        document.querySelector('#df-369dac9a-971e-488f-87db-fc3ce610b8ed button.colab-df-convert');\n",
              "      buttonEl.style.display =\n",
              "        google.colab.kernel.accessAllowed ? 'block' : 'none';\n",
              "\n",
              "      async function convertToInteractive(key) {\n",
              "        const element = document.querySelector('#df-369dac9a-971e-488f-87db-fc3ce610b8ed');\n",
              "        const dataTable =\n",
              "          await google.colab.kernel.invokeFunction('convertToInteractive',\n",
              "                                                    [key], {});\n",
              "        if (!dataTable) return;\n",
              "\n",
              "        const docLinkHtml = 'Like what you see? Visit the ' +\n",
              "          '<a target=\"_blank\" href=https://colab.research.google.com/notebooks/data_table.ipynb>data table notebook</a>'\n",
              "          + ' to learn more about interactive tables.';\n",
              "        element.innerHTML = '';\n",
              "        dataTable['output_type'] = 'display_data';\n",
              "        await google.colab.output.renderOutput(dataTable, element);\n",
              "        const docLink = document.createElement('div');\n",
              "        docLink.innerHTML = docLinkHtml;\n",
              "        element.appendChild(docLink);\n",
              "      }\n",
              "    </script>\n",
              "  </div>\n",
              "\n",
              "\n",
              "<div id=\"df-77e70b9c-020a-41d6-a881-9f3a3254b1d2\">\n",
              "  <button class=\"colab-df-quickchart\" onclick=\"quickchart('df-77e70b9c-020a-41d6-a881-9f3a3254b1d2')\"\n",
              "            title=\"Suggest charts\"\n",
              "            style=\"display:none;\">\n",
              "\n",
              "<svg xmlns=\"http://www.w3.org/2000/svg\" height=\"24px\"viewBox=\"0 0 24 24\"\n",
              "     width=\"24px\">\n",
              "    <g>\n",
              "        <path d=\"M19 3H5c-1.1 0-2 .9-2 2v14c0 1.1.9 2 2 2h14c1.1 0 2-.9 2-2V5c0-1.1-.9-2-2-2zM9 17H7v-7h2v7zm4 0h-2V7h2v10zm4 0h-2v-4h2v4z\"/>\n",
              "    </g>\n",
              "</svg>\n",
              "  </button>\n",
              "\n",
              "<style>\n",
              "  .colab-df-quickchart {\n",
              "      --bg-color: #E8F0FE;\n",
              "      --fill-color: #1967D2;\n",
              "      --hover-bg-color: #E2EBFA;\n",
              "      --hover-fill-color: #174EA6;\n",
              "      --disabled-fill-color: #AAA;\n",
              "      --disabled-bg-color: #DDD;\n",
              "  }\n",
              "\n",
              "  [theme=dark] .colab-df-quickchart {\n",
              "      --bg-color: #3B4455;\n",
              "      --fill-color: #D2E3FC;\n",
              "      --hover-bg-color: #434B5C;\n",
              "      --hover-fill-color: #FFFFFF;\n",
              "      --disabled-bg-color: #3B4455;\n",
              "      --disabled-fill-color: #666;\n",
              "  }\n",
              "\n",
              "  .colab-df-quickchart {\n",
              "    background-color: var(--bg-color);\n",
              "    border: none;\n",
              "    border-radius: 50%;\n",
              "    cursor: pointer;\n",
              "    display: none;\n",
              "    fill: var(--fill-color);\n",
              "    height: 32px;\n",
              "    padding: 0;\n",
              "    width: 32px;\n",
              "  }\n",
              "\n",
              "  .colab-df-quickchart:hover {\n",
              "    background-color: var(--hover-bg-color);\n",
              "    box-shadow: 0 1px 2px rgba(60, 64, 67, 0.3), 0 1px 3px 1px rgba(60, 64, 67, 0.15);\n",
              "    fill: var(--button-hover-fill-color);\n",
              "  }\n",
              "\n",
              "  .colab-df-quickchart-complete:disabled,\n",
              "  .colab-df-quickchart-complete:disabled:hover {\n",
              "    background-color: var(--disabled-bg-color);\n",
              "    fill: var(--disabled-fill-color);\n",
              "    box-shadow: none;\n",
              "  }\n",
              "\n",
              "  .colab-df-spinner {\n",
              "    border: 2px solid var(--fill-color);\n",
              "    border-color: transparent;\n",
              "    border-bottom-color: var(--fill-color);\n",
              "    animation:\n",
              "      spin 1s steps(1) infinite;\n",
              "  }\n",
              "\n",
              "  @keyframes spin {\n",
              "    0% {\n",
              "      border-color: transparent;\n",
              "      border-bottom-color: var(--fill-color);\n",
              "      border-left-color: var(--fill-color);\n",
              "    }\n",
              "    20% {\n",
              "      border-color: transparent;\n",
              "      border-left-color: var(--fill-color);\n",
              "      border-top-color: var(--fill-color);\n",
              "    }\n",
              "    30% {\n",
              "      border-color: transparent;\n",
              "      border-left-color: var(--fill-color);\n",
              "      border-top-color: var(--fill-color);\n",
              "      border-right-color: var(--fill-color);\n",
              "    }\n",
              "    40% {\n",
              "      border-color: transparent;\n",
              "      border-right-color: var(--fill-color);\n",
              "      border-top-color: var(--fill-color);\n",
              "    }\n",
              "    60% {\n",
              "      border-color: transparent;\n",
              "      border-right-color: var(--fill-color);\n",
              "    }\n",
              "    80% {\n",
              "      border-color: transparent;\n",
              "      border-right-color: var(--fill-color);\n",
              "      border-bottom-color: var(--fill-color);\n",
              "    }\n",
              "    90% {\n",
              "      border-color: transparent;\n",
              "      border-bottom-color: var(--fill-color);\n",
              "    }\n",
              "  }\n",
              "</style>\n",
              "\n",
              "  <script>\n",
              "    async function quickchart(key) {\n",
              "      const quickchartButtonEl =\n",
              "        document.querySelector('#' + key + ' button');\n",
              "      quickchartButtonEl.disabled = true;  // To prevent multiple clicks.\n",
              "      quickchartButtonEl.classList.add('colab-df-spinner');\n",
              "      try {\n",
              "        const charts = await google.colab.kernel.invokeFunction(\n",
              "            'suggestCharts', [key], {});\n",
              "      } catch (error) {\n",
              "        console.error('Error during call to suggestCharts:', error);\n",
              "      }\n",
              "      quickchartButtonEl.classList.remove('colab-df-spinner');\n",
              "      quickchartButtonEl.classList.add('colab-df-quickchart-complete');\n",
              "    }\n",
              "    (() => {\n",
              "      let quickchartButtonEl =\n",
              "        document.querySelector('#df-77e70b9c-020a-41d6-a881-9f3a3254b1d2 button');\n",
              "      quickchartButtonEl.style.display =\n",
              "        google.colab.kernel.accessAllowed ? 'block' : 'none';\n",
              "    })();\n",
              "  </script>\n",
              "</div>\n",
              "    </div>\n",
              "  </div>\n"
            ],
            "application/vnd.google.colaboratory.intrinsic+json": {
              "type": "dataframe",
              "variable_name": "data_dl",
              "summary": "{\n  \"name\": \"data_dl\",\n  \"rows\": 98,\n  \"fields\": [\n    {\n      \"column\": \"Chemical name\",\n      \"properties\": {\n        \"dtype\": \"string\",\n        \"num_unique_values\": 98,\n        \"samples\": [\n          \"Thalidomide\",\n          \"Papaverine\",\n          \"Gliclazide\"\n        ],\n        \"semantic_type\": \"\",\n        \"description\": \"\"\n      }\n    },\n    {\n      \"column\": \"SMILES\",\n      \"properties\": {\n        \"dtype\": \"string\",\n        \"num_unique_values\": 98,\n        \"samples\": [\n          \"O=C1CCC(N2C(=O)c3ccccc3C2=O)C(=O)N1\",\n          \"COc1ccc(Cc2nccc3cc(OC)c(OC)cc23)cc1OC\",\n          \"Cc1ccc(S(=O)(=O)NC(=O)NN2CC3CCCC3C2)cc1\"\n        ],\n        \"semantic_type\": \"\",\n        \"description\": \"\"\n      }\n    },\n    {\n      \"column\": \"LogS exp (mol/L)\",\n      \"properties\": {\n        \"dtype\": \"number\",\n        \"std\": 1.5564845320349727,\n        \"min\": -6.75,\n        \"max\": 0.48,\n        \"num_unique_values\": 90,\n        \"samples\": [\n          -1.98,\n          -4.15,\n          -2.73\n        ],\n        \"semantic_type\": \"\",\n        \"description\": \"\"\n      }\n    }\n  ]\n}"
            }
          },
          "metadata": {},
          "execution_count": 18
        }
      ]
    },
    {
      "cell_type": "markdown",
      "source": [
        "# 3. Calculation of RDkit Molecular Descriptors\n",
        "\n",
        "Calculation of RDkit Molecular Descriptors, which are molecular features for the data set and the test data set"
      ],
      "metadata": {
        "id": "IwdeeEJMLtxc"
      }
    },
    {
      "cell_type": "code",
      "source": [
        "def RDkit_descriptors(smiles):\n",
        "    mols = [Chem.MolFromSmiles(i) for i in smiles]\n",
        "    calc = MoleculeDescriptors.MolecularDescriptorCalculator([x[0]\n",
        "                                    for x in Descriptors._descList])\n",
        "    desc_names = calc.GetDescriptorNames()\n",
        "\n",
        "    Mol_descriptors =[]\n",
        "    for mol in tqdm(mols):\n",
        "        # add hydrogens to molecules\n",
        "        mol=Chem.AddHs(mol)\n",
        "        # Calculate all 200 descriptors for each molecule\n",
        "        descriptors = calc.CalcDescriptors(mol)\n",
        "        Mol_descriptors.append(descriptors)\n",
        "    return Mol_descriptors,desc_names\n",
        "\n",
        "# Function call\n",
        "Mol_descriptors,desc_names = RDkit_descriptors(data_cleaned_final['SMILES'])"
      ],
      "metadata": {
        "id": "kiwjxW8iL39L"
      },
      "execution_count": null,
      "outputs": []
    },
    {
      "cell_type": "code",
      "source": [
        "df_descriptors = pd.DataFrame(Mol_descriptors, columns=desc_names)\n",
        "df_descriptors.head()"
      ],
      "metadata": {
        "id": "1v7UGPE6OLKA"
      },
      "execution_count": null,
      "outputs": []
    },
    {
      "cell_type": "code",
      "source": [
        "# Calculate molecular descriptors for the test data or 98 compounds\n",
        "Mol_descriptors_test , desc_names_test = RDkit_descriptors(data_dl[\"SMILES\"])\n",
        "data_dl_descriptors = pd.DataFrame(Mol_descriptors_test,columns=desc_names_test)"
      ],
      "metadata": {
        "id": "RBYTOA2jGUff"
      },
      "execution_count": null,
      "outputs": []
    },
    {
      "cell_type": "code",
      "source": [
        "# Save the dataf to .csv files\n",
        "df_descriptors.to_csv('Data_Solubility_descriptor.csv', index=False)\n",
        "data_dl_descriptors.to_csv('Data_Solubility_Drug_Like_descriptor.csv', index=False)"
      ],
      "metadata": {
        "id": "_fps8kamGUWI"
      },
      "execution_count": null,
      "outputs": []
    },
    {
      "cell_type": "markdown",
      "source": [
        "# 4. Training and Validation set\n",
        "\n",
        "In this part, we will separate the data from the data set into 2 sets: the training set to train the model and the validation set to provide an evaluation of the model on the training dataset to adjust the hyperparameters.\n",
        "\n",
        "If you have run sections 2. and 3., you can skip to section 4.2, otherwise you must run section 4.1."
      ],
      "metadata": {
        "id": "KZFGKSecQqsq"
      }
    },
    {
      "cell_type": "markdown",
      "source": [
        "##4.1 Acquisition of Sorted, Cleaned Data Sets and RDkit Molecular Descriptors"
      ],
      "metadata": {
        "id": "S0FnHdNK-UjL"
      }
    },
    {
      "cell_type": "code",
      "source": [
        "#Download cleaned and sorted data (Data_Cleaned_Final.csv) with RDkit molecular descriptors (Data_Solubility_descriptor.csv) for training and validation set\n",
        "!wget https://raw.githubusercontent.com/Nohalyan/Projetppchem/main/Data/Data_Cleaned_Final.csv\n",
        "!wget https://raw.githubusercontent.com/Nohalyan/Projetppchem/main/Data/Data_Solubility_descriptor.csv\n",
        "\n",
        "#Download cleaned and sorted data (Data_Drug_Like_Solubility.csv) with RDkit molecular descriptors (Data_Solubility_Drug_Like_descriptor.csv) for test set\n",
        "!wget https://raw.githubusercontent.com/Nohalyan/Projetppchem/main/Data/Data_Drug_Like_Solubility.csv\n",
        "!wget https://raw.githubusercontent.com/Nohalyan/Projetppchem/main/Data/Data_Solubility_Drug_Like_descriptor.csv"
      ],
      "metadata": {
        "id": "vYAMHTM8-BkU"
      },
      "execution_count": null,
      "outputs": []
    },
    {
      "cell_type": "code",
      "source": [
        "#To verify that the file was correctly downloaded\n",
        "# Create a Path object for the current directory, in our case /content/\n",
        "current_directory = Path.cwd()\n",
        "print(\"Current Directory:\", current_directory.resolve())\n",
        "\n",
        "file_path = current_directory / \"Data_Solubility_Drug_Like_descriptor.csv\" #Copy and paste the file name\n",
        "\n",
        "# Reading the contents of the file and check that the file exists\n",
        "if file_path.exists():\n",
        "    with file_path.open(\"r\") as file:\n",
        "        content = file.read()\n",
        "        print(content)\n",
        "else:\n",
        "    print(\"The file does not exist.\")\n"
      ],
      "metadata": {
        "id": "U0DNJaLB_Z92"
      },
      "execution_count": null,
      "outputs": []
    },
    {
      "cell_type": "code",
      "source": [
        "#Variable definitions, if not defined in sections 2. and 3.\n",
        "data_dl = pd.read_csv(\"/content/Data_Drug_Like_Solubility.csv\", delimiter=';')\n",
        "data_dl= data_dl[data_dl['LogS exp (mol/L)'].apply(lambda x: x > -7.5 and x < 1.7)]\n",
        "df_descriptors = pd.read_csv(\"/content/Data_Solubility_descriptor.csv\", delimiter=';')\n",
        "data_cleaned_final = pd.read_csv(\"/content/Data_Cleaned_Final.csv\", delimiter=',')\n",
        "data_dl_descriptors = pd.read_csv(\"/content/Data_Solubility_Drug_Like_descriptor.csv\", delimiter=',')"
      ],
      "metadata": {
        "id": "MPM1lkSP-3n8"
      },
      "execution_count": 20,
      "outputs": []
    },
    {
      "cell_type": "markdown",
      "source": [
        "## 4.2  Split the chemicals for training and validation set"
      ],
      "metadata": {
        "id": "b_Jh0XofAngT"
      }
    },
    {
      "cell_type": "code",
      "source": [
        "#Variable definitions for training and set validation\n",
        "x_train, x_valid, y_train, y_valid = train_test_split(df_descriptors, data_cleaned_final.logS, test_size=0.1,random_state=42)\n",
        "\n",
        "#Standardization of the features\n",
        "scaler = StandardScaler()\n",
        "scaler.fit(x_train)\n",
        "x_train_scaled = scaler.transform(x_train)\n",
        "x_valid_scaled = scaler.transform(x_valid)"
      ],
      "metadata": {
        "id": "xtfxtv4bQ1JW"
      },
      "execution_count": 7,
      "outputs": []
    },
    {
      "cell_type": "markdown",
      "source": [
        "#5. Select Machine Learning Models\n",
        "\n",
        "Let's identify the optimal machine learning models for our water solubility predisction. To accomplish this, we will utilize the \"lazypredict\" library, specifically leveraging the \"LazyRegressor\" function to evaluate a selection of 42 machine learning models."
      ],
      "metadata": {
        "id": "ObN4zyriRhtz"
      }
    },
    {
      "cell_type": "code",
      "source": [
        "lregs = LazyRegressor(verbose=0,ignore_warnings=True, custom_metric=None,random_state=42)\n",
        "models, prediction_tests = lregs.fit(x_train_scaled, x_valid_scaled, y_train, y_valid)"
      ],
      "metadata": {
        "id": "fVj91hWoRkr-"
      },
      "execution_count": null,
      "outputs": []
    },
    {
      "cell_type": "code",
      "source": [
        "#The top five models\n",
        "prediction_tests[:5]"
      ],
      "metadata": {
        "id": "djOzUCFpWF-z"
      },
      "execution_count": null,
      "outputs": []
    },
    {
      "cell_type": "markdown",
      "source": [
        "# 6. Fine-tuning\n",
        "\n",
        "Analyzing the top 5 best models we decided to use 3 models:\n",
        "1. LGBMRegressor,\n",
        "2. XGBRegressor because these are the 2 fastest models, enabling us to obtain results faster than the other models.\n",
        "3. RandomForestRegressor because we were familiar with this modeland we wanted to see what it could do in the project."
      ],
      "metadata": {
        "id": "WHz1RVk6WlW5"
      }
    },
    {
      "cell_type": "markdown",
      "source": [
        "## 6.1 LGBMRegressor\n",
        "\n",
        "We decided to take the LGBMRegressor model because the results generated by this model are comparable to the ExtraTreesRegressor model, but takes a lot less time than the ExtraTreesRegressor model.Let's performs a grid search using GridSearchCV from scikit-learn to find the best hyperparameters for a LightGBM regressor:"
      ],
      "metadata": {
        "id": "i0xvrdCh28V5"
      }
    },
    {
      "cell_type": "code",
      "source": [
        "params = {'max_depth' : list(range(20, 30, 1)),\n",
        "          'n_estimators' : list(range(1278, 1280, 1)) ,\n",
        "          'learning_rate': list(np.arange(0.04, 0.05, 0.01))}\n",
        "\n",
        "grid_search = GridSearchCV(LGBMRegressor(random_state = 42),\n",
        "                            param_grid=params, cv=5, verbose=1)\n",
        "\n",
        "grid_search.fit(x_train, y_train)\n",
        "\n",
        "print(\"Optimized parameters for a LightGBM regressor can be: \", grid_search.best_params_)"
      ],
      "metadata": {
        "id": "4C5cOJ4hXG3M"
      },
      "execution_count": null,
      "outputs": []
    },
    {
      "cell_type": "markdown",
      "source": [
        "We obtained:\n",
        "* learning_rate: 0.01\n",
        "* max_depth: 26\n",
        "* n_estmitors: 901\n",
        "\n",
        "Let's optimize again with new ranges for max_depth, n_estmitors and learning_rate to obtain even better parameters:\n"
      ],
      "metadata": {
        "id": "ELET-iZOcmPx"
      }
    },
    {
      "cell_type": "code",
      "source": [
        "#params_bst = {\"max_depth\" : list(range(20, 36, 4)),\n",
        "#         \"n_estimators\" : list(range(850, 1200, 50)),\n",
        "#         \"learning_rate\" : list(np.arange(0.01, 0.05, 0.01))}\n",
        "#\n",
        "#grid_search_bst = GridSearchCV(LGBMRegressor(random_state = 42),\n",
        "#                                  param_grid=params_bst, cv=3, verbose=1)\n",
        "#\n",
        "#grid_search_bst.fit(x_train, y_train)\n",
        "#print(\"The best parameters are: \", grid_search_bst.best_params_)"
      ],
      "metadata": {
        "id": "Kwe8dQKHNTzt"
      },
      "execution_count": null,
      "outputs": []
    },
    {
      "cell_type": "markdown",
      "source": [
        "We obtained:\n",
        "* learning_rate: 0.04\n",
        "* max_depth: 24\n",
        "* n_estmitors: 1151\n",
        "\n",
        "These are the parameters we will use for our standard LGBMRegressor model.\n",
        "\n",
        "We also wanted to see if by making new runs and trying to optimize these three hyperparameters even further, we could get an even better model. We therefore made a total of 6 runs (compared with the 2 runs for standard models) for this model and obtained these parameters:\n",
        "* learning_rate: 0.04\n",
        "* max_depth: 21\n",
        "* n_estmitors: 1279\n",
        "\n",
        "These are the parameters we will use for our studious LGBMRegressor model."
      ],
      "metadata": {
        "id": "s-EtroNCMEW2"
      }
    },
    {
      "cell_type": "markdown",
      "source": [
        "##6.2 XGB Regressor\n",
        "In order to compare our results obtained for the first model, we have chosen XGB Regressor as the second model for the reasons presented above."
      ],
      "metadata": {
        "id": "j_Azw2-qZRI7"
      }
    },
    {
      "cell_type": "code",
      "source": [
        "import numpy as np\n",
        "from xgboost import XGBRegressor\n",
        "from sklearn.model_selection import train_test_split\n",
        "from sklearn.preprocessing import StandardScaler\n",
        "\n",
        "# Assuming x_train and y_train are already defined\n",
        "\n",
        "# Split data into training and validation sets\n",
        "x_train, x_val, y_train, y_val = train_test_split(x_train, y_train, test_size=0.2, random_state=42)\n",
        "\n",
        "# Data preprocessing\n",
        "scaler = StandardScaler()\n",
        "x_train_scaled = scaler.fit_transform(x_train)\n",
        "x_val_scaled = scaler.transform(x_val)\n",
        "\n",
        "# Define the parameter grid\n",
        "max_depths = list(range(2, 32, 8))\n",
        "n_estimators = list(range(1, 201, 20))\n",
        "learning_rates = list(np.arange(0.01, 1.02, 0.25))\n",
        "\n",
        "best_score = float('-inf')\n",
        "best_params = {}\n",
        "\n",
        "# Iterate over parameter combinations\n",
        "for max_depth in max_depths:\n",
        "    for n_estimator in n_estimators:\n",
        "        for learning_rate in learning_rates:\n",
        "            # Create XGBoost regressor with current parameters\n",
        "            xgb_regressor = XGBRegressor(max_depth=max_depth,\n",
        "                                         n_estimators=n_estimator,\n",
        "                                         learning_rate=learning_rate,\n",
        "                                         random_state=42)\n",
        "\n",
        "            # Fit the model\n",
        "            xgb_regressor.fit(x_train_scaled, y_train)\n",
        "\n",
        "            # Evaluate the model\n",
        "            score = xgb_regressor.score(x_val_scaled, y_val)  # Using the validation set for evaluation\n",
        "\n",
        "            # Check if current parameters yield better score\n",
        "            if score > best_score:\n",
        "                best_score = score\n",
        "                best_params = {'max_depth': max_depth, 'n_estimators': n_estimator, 'learning_rate': learning_rate}\n",
        "\n",
        "# Print the best parameters found\n",
        "print(\"Optimized parameters for an XGBoost regressor can be:\", best_params)"
      ],
      "metadata": {
        "id": "CiCxejpQZWW8"
      },
      "execution_count": null,
      "outputs": []
    },
    {
      "cell_type": "markdown",
      "source": [
        "We obtained for this first run:\n",
        "- max_depth: 2\n",
        "- n_estimators: 181\n",
        "- learning_rate: 0.26"
      ],
      "metadata": {
        "id": "X5ES7ZsPZh54"
      }
    },
    {
      "cell_type": "code",
      "source": [
        "import numpy as np\n",
        "from xgboost import XGBRegressor\n",
        "from sklearn.model_selection import train_test_split\n",
        "from sklearn.preprocessing import StandardScaler\n",
        "\n",
        "# Assuming x_train and y_train are already defined\n",
        "\n",
        "# Split data into training and validation sets\n",
        "x_train, x_val, y_train, y_val = train_test_split(x_train, y_train, test_size=0.2, random_state=42)\n",
        "\n",
        "# Data preprocessing\n",
        "scaler = StandardScaler()\n",
        "x_train_scaled = scaler.fit_transform(x_train)\n",
        "x_val_scaled = scaler.transform(x_val)\n",
        "\n",
        "# Define the parameter grid\n",
        "max_depths = list(range(2, 6, 1))\n",
        "n_estimators = list(range(100, 700, 50))\n",
        "learning_rates = list(np.arange(0.05, 0.30, 0.05))\n",
        "\n",
        "best_score = float('-inf')\n",
        "best_params = {}\n",
        "\n",
        "# Iterate over parameter combinations\n",
        "for max_depth in max_depths:\n",
        "    for n_estimator in n_estimators:\n",
        "        for learning_rate in learning_rates:\n",
        "            # Create XGBoost regressor with current parameters\n",
        "            xgb_regressor = XGBRegressor(max_depth=max_depth,\n",
        "                                         n_estimators=n_estimator,\n",
        "                                         learning_rate=learning_rate,\n",
        "                                         random_state=42)\n",
        "\n",
        "            # Fit the model\n",
        "            xgb_regressor.fit(x_train_scaled, y_train)\n",
        "\n",
        "            # Evaluate the model\n",
        "            score = xgb_regressor.score(x_val_scaled, y_val)  # Using the validation set for evaluation\n",
        "\n",
        "            # Check if current parameters yield better score\n",
        "            if score > best_score:\n",
        "                best_score = score\n",
        "                best_params = {'max_depth': max_depth, 'n_estimators': n_estimator, 'learning_rate': learning_rate}\n",
        "\n",
        "# Print the best parameters found\n",
        "print(\"Optimized parameters for an XGBoost regressor can be:\", best_params)"
      ],
      "metadata": {
        "id": "A0hA410WZqpG"
      },
      "execution_count": null,
      "outputs": []
    },
    {
      "cell_type": "markdown",
      "source": [
        "\n",
        "We obtained for this second run:\n",
        "\n",
        "- max_depth: 5\n",
        "- n_estimators: 500\n",
        "- learning_rate: 0.1\n",
        "\n",
        "These are the parameters we will use for our standard LGBMRegressor model."
      ],
      "metadata": {
        "id": "F3NB61q4ZvZM"
      }
    },
    {
      "cell_type": "markdown",
      "source": [
        "## 6.3 RandomForestRegressor\n",
        "\n",
        "For the third regression model, we opted for the RandomForestRegressor model. However, it presented longer runtimes, allowing us to explore its post-tuning performance and see how it differs from the other models."
      ],
      "metadata": {
        "id": "BS5PzOwgiScM"
      }
    },
    {
      "cell_type": "code",
      "source": [
        "# Handle missing values in x_train\n",
        "imputer = SimpleImputer(strategy='mean')\n",
        "x_train_imputed = imputer.fit_transform(x_train)\n",
        "\n",
        "# Scale the input data\n",
        "scaler = StandardScaler()\n",
        "x_train_scaled = scaler.fit_transform(x_train_imputed)\n",
        "\n",
        "# Define the parameter grid for grid search\n",
        "paramsRF = {\n",
        "    'max_depth': list(range(2, 32, 16)),\n",
        "    'n_estimators': list(range(1, 1000, 200))\n",
        "}\n",
        "\n",
        "# Perform grid search with RandomForestRegressor\n",
        "grid_searchRF = GridSearchCV(RandomForestRegressor(random_state=42),\n",
        "                             param_grid=paramsRF, cv=5, verbose=1)\n",
        "\n",
        "# Fit the grid search to the scaled data\n",
        "grid_searchRF.fit(x_train_scaled, y_train)\n",
        "\n",
        "# Print the best parameters found\n",
        "print(\"Optimized parameters for a RandomForestRegressor can be: \", grid_searchRF.best_params_)"
      ],
      "metadata": {
        "id": "HpfQVi3kLTA4"
      },
      "execution_count": null,
      "outputs": []
    },
    {
      "cell_type": "markdown",
      "source": [
        "We acquired those values for the first run:\n",
        "- max_depth = 26\n",
        "- n_estimators = 901"
      ],
      "metadata": {
        "id": "q1RDwyFdFttU"
      }
    },
    {
      "cell_type": "code",
      "source": [
        "# Handle missing values in x_train\n",
        "#imputer = SimpleImputer(strategy='mean')\n",
        "#x_train_imputed = imputer.fit_transform(x_train)\n",
        "\n",
        "# Scale the input data\n",
        "#scaler = StandardScaler()\n",
        "#x_train_scaled = scaler.fit_transform(x_train_imputed)\n",
        "\n",
        "# Define the parameter grid for grid search\n",
        "#paramsRF = {\n",
        "#    'max_depth': list(range(2, 32, 12)),\n",
        "#    'n_estimators': list(range(1, 1000, 150))\n",
        "#}\n",
        "\n",
        "# Perform grid search with RandomForestRegressor\n",
        "#grid_searchRF = GridSearchCV(RandomForestRegressor(random_state=42),\n",
        "#                             param_grid=paramsRF, cv=5, verbose=1)\n",
        "\n",
        "# Fit the grid search to the scaled data\n",
        "#grid_searchRF.fit(x_train_scaled, y_train)\n",
        "\n",
        "# Print the best parameters found\n",
        "#print(\"Optimized parameters for a RandomForestRegressor can be: \", grid_searchRF.best_params_)\n",
        "\n"
      ],
      "metadata": {
        "id": "i-1f_CDkE6Qu"
      },
      "execution_count": null,
      "outputs": []
    },
    {
      "cell_type": "markdown",
      "source": [
        "We acquired those values for the first run:\n",
        "- max_depth = 18\n",
        "- n_estimators = 801\n",
        "\n",
        "These are the parameters we will use for our studious RandomForestRegressor model."
      ],
      "metadata": {
        "id": "uDvLKn-kEbc5"
      }
    },
    {
      "cell_type": "markdown",
      "source": [
        "# 7. Models for training and test data\n"
      ],
      "metadata": {
        "id": "dgaMm6uzhaz6"
      }
    },
    {
      "cell_type": "markdown",
      "source": [
        "## 7.1 LGBMRegressor\n",
        "Let's test our model ont the training and test set with the best parameters found with the fine tunning:\n",
        "\n",
        "\n",
        "\n"
      ],
      "metadata": {
        "id": "dfuMUiEYAu01"
      }
    },
    {
      "cell_type": "code",
      "source": [
        "model = LGBMRegressor(n_estimators = 1279,\n",
        "                      max_depth = 21,\n",
        "                      learning_rate = 0.04,\n",
        "                      random_state= 42)\n",
        "\n",
        "model.fit(x_train_scaled,y_train)\n",
        "y_preds = model.predict(x_valid_scaled)"
      ],
      "metadata": {
        "id": "lV5YnDz4BOhz"
      },
      "execution_count": null,
      "outputs": []
    },
    {
      "cell_type": "code",
      "source": [
        "# A plotting function\n",
        "def plot_data(actual, predicted, title):\n",
        "\n",
        "# model performance using RMSE\n",
        "    rmse = np.sqrt(mean_squared_error(actual, predicted))\n",
        "\n",
        "# R^2 (coefficient of determination) :\n",
        "    R2 =r2_score(actual, predicted)\n",
        "    plt.figure(figsize=(8,6))\n",
        "\n",
        "# Plot the figure\n",
        "    sn.regplot(x=predicted , y=actual,line_kws={\"lw\":2,\n",
        "                                                \"ls\":\"--\",\n",
        "                                                \"color\":\"red\",\n",
        "                                                \"alpha\":0.7})\n",
        "    plt.title(title, color=\"red\")\n",
        "    plt.xlabel(\"Predicted logS(mol/L)\",\n",
        "               color=\"blue\")\n",
        "    plt.xlim(-8,1)\n",
        "    plt.ylabel(\"Experimental logS(mol/L)\",\n",
        "               color =\"blue\")\n",
        "\n",
        "    plt.grid(alpha=0.3)\n",
        "    R2 = mpatches.Patch(label=\"R2={:04.2f}\".format(R2))\n",
        "    rmse = mpatches.Patch(label=\"RMSE={:04.2f}\".format(rmse))\n",
        "    plt.legend(handles=[R2, rmse])"
      ],
      "metadata": {
        "id": "vYAhA4_1ChMy"
      },
      "execution_count": 10,
      "outputs": []
    },
    {
      "cell_type": "markdown",
      "source": [
        "Let's plot the predicted logS of the validation set and see if our model works."
      ],
      "metadata": {
        "id": "oLXafM4bEpJg"
      }
    },
    {
      "cell_type": "code",
      "source": [
        "sn.set_theme(style=\"whitegrid\")\n",
        "plot_data(y_valid,y_preds,\"Validation data LGBM\")"
      ],
      "metadata": {
        "id": "xtO2vsUUEnMh"
      },
      "execution_count": null,
      "outputs": []
    },
    {
      "cell_type": "code",
      "source": [
        "# Standard scaler - transform\n",
        "x_scaled_test = scaler.transform(data_dl_descriptors)\n",
        "\n",
        "# Predict solubility of the test data\n",
        "y_test_preds = model.predict(x_scaled_test)"
      ],
      "metadata": {
        "id": "PzzUsNv0En7a"
      },
      "execution_count": null,
      "outputs": []
    },
    {
      "cell_type": "code",
      "source": [
        "# Plotting testing set\n",
        "sn.set_theme(style=\"whitegrid\")\n",
        "plot_data(data_dl[\"LogS exp (mol/L)\"], y_test_preds,\n",
        "           \"Test data: Drug-like Molecules\")"
      ],
      "metadata": {
        "id": "hf_U34X3eEju"
      },
      "execution_count": null,
      "outputs": []
    },
    {
      "cell_type": "markdown",
      "source": [
        "## 7.2 XGB Regressor\n"
      ],
      "metadata": {
        "id": "3caSSsgQlgvq"
      }
    },
    {
      "cell_type": "code",
      "source": [
        "from xgboost import XGBRegressor\n",
        "\n",
        "model_XGB = XGBRegressor(n_estimators = 500,\n",
        "                         max_depth = 5,\n",
        "                         learning_rate = 0.1,\n",
        "                         random_state = 42)\n",
        "model_XGB.fit(x_train_scaled,y_train)\n",
        "y_preds_XGB = model_XGB.predict(x_valid_scaled)"
      ],
      "metadata": {
        "id": "6fmlsABklkUk"
      },
      "execution_count": 16,
      "outputs": []
    },
    {
      "cell_type": "code",
      "source": [
        "# Standard scaler - transform\n",
        "x_scaled_test = scaler.transform(data_dl_descriptors)\n",
        "\n",
        "# Predict solubility of the test data\n",
        "y_test_preds_XGB = model_XGB.predict(x_scaled_test)"
      ],
      "metadata": {
        "id": "ZThHw7Bhnr6H"
      },
      "execution_count": null,
      "outputs": []
    },
    {
      "cell_type": "code",
      "source": [
        "# A plotting function\n",
        "def plot_data_XGB(actual, predicted, title):\n",
        "\n",
        "# model performance using RMSE\n",
        "    rmse_XGB = np.sqrt(mean_squared_error(actual, predicted))\n",
        "\n",
        "# R^2 (coefficient of determination) :\n",
        "    R2_XGB =r2_score(actual, predicted)\n",
        "    plt.figure(figsize=(8,6))\n",
        "\n",
        "# Plot the figure\n",
        "    sn.regplot(x=predicted , y=actual,line_kws={\"lw\":2,\n",
        "                                                \"ls\":\"--\",\n",
        "                                                \"color\":\"red\",\n",
        "                                                \"alpha\":0.7})\n",
        "    plt.title(title, color=\"red\")\n",
        "    plt.xlabel(\"Predicted logS(mol/L)\",\n",
        "               color=\"blue\")\n",
        "    plt.xlim(-8,1)\n",
        "    plt.ylabel(\"Experimental logS(mol/L)\",\n",
        "               color =\"blue\")\n",
        "\n",
        "\n",
        "    plt.grid(alpha=0.3)\n",
        "    R2_XGB = mpatches.Patch(label=\"R2_XGB={:04.2f}\".format(R2_XGB))\n",
        "    rmse_XGB = mpatches.Patch(label=\"RMSE_XGB={:04.2f}\".format(rmse_XGB))\n",
        "    plt.legend(handles=[R2_XGB, rmse_XGB])\n"
      ],
      "metadata": {
        "id": "6y9KrGGYm3Mr"
      },
      "execution_count": null,
      "outputs": []
    },
    {
      "cell_type": "markdown",
      "source": [
        "Let's plot the predicted logS of the validation set and see if our model works."
      ],
      "metadata": {
        "id": "VVS679LeR0hA"
      }
    },
    {
      "cell_type": "code",
      "source": [
        "sn.set_theme(style=\"whitegrid\")\n",
        "plot_data_XGB(y_valid,y_preds_XGB,\"Validation data XGB\")"
      ],
      "metadata": {
        "id": "NUZ-QwQ1nTFN"
      },
      "execution_count": null,
      "outputs": []
    },
    {
      "cell_type": "code",
      "source": [
        "# Plotting testing set for XGB\n",
        "sn.set_theme(style=\"whitegrid\")\n",
        "plot_data_XGB(data_dl[\"LogS exp (mol/L)\"], y_test_preds_XGB,\n",
        "           \"Test data XGB: Drug-like Molecules\")\n"
      ],
      "metadata": {
        "id": "YZF0BS7TqxVE"
      },
      "execution_count": null,
      "outputs": []
    },
    {
      "cell_type": "markdown",
      "source": [
        "## 7.3 Random Forrest\n",
        "\n"
      ],
      "metadata": {
        "id": "bMngOOWyYomD"
      }
    },
    {
      "cell_type": "markdown",
      "source": [
        "Let's test the Random Forest model with optimized values we obtained."
      ],
      "metadata": {
        "id": "zysukbYWYvTN"
      }
    },
    {
      "cell_type": "code",
      "source": [
        "# Replace NaN values by the average\n",
        "imputer = SimpleImputer(strategy='mean')\n",
        "\n",
        "# Imput the misssing values in x_train_scaled\n",
        "x_train_imputed = imputer.fit_transform(x_train_scaled)\n",
        "\n",
        "# Model creation for RandomForestRegressor\n",
        "modelRF = RandomForestRegressor(n_estimators=901,\n",
        "                               max_depth=26,\n",
        "                               random_state=42)\n",
        "\n",
        "# Model training on the given data\n",
        "modelRF.fit(x_train_imputed, y_train)\n",
        "\n",
        "# Imput missing values in x_valid_scaled\n",
        "x_valid_imputed = imputer.transform(x_valid_scaled)\n",
        "\n",
        "# Prediction\n",
        "y_preds_RF = modelRF.predict(x_valid_imputed)\n"
      ],
      "metadata": {
        "id": "x28QGxpMYurY"
      },
      "execution_count": null,
      "outputs": []
    },
    {
      "cell_type": "code",
      "source": [
        "# A plotting function\n",
        "def plot_data_RF(actual, predicted, title):\n",
        "\n",
        "# model performance using RMSE\n",
        "    rmse = np.sqrt(mean_squared_error(actual, predicted))\n",
        "\n",
        "# R^2 (coefficient of determination) :\n",
        "    R2 =r2_score(actual, predicted)\n",
        "    plt.figure(figsize=(8,6))\n",
        "\n",
        "# Plot the figure\n",
        "    sn.regplot(x=predicted , y=actual,line_kws={\"lw\":2,\n",
        "                                                \"ls\":\"--\",\n",
        "                                                \"color\":\"red\",\n",
        "                                                \"alpha\":0.7})\n",
        "    plt.title(title, color=\"red\")\n",
        "    plt.xlabel(\"Predicted logS(mol/L)\",\n",
        "               color=\"blue\")\n",
        "    plt.xlim(-8,1)\n",
        "    plt.ylabel(\"Experimental logS(mol/L)\",\n",
        "               color =\"blue\")\n",
        "\n",
        "\n",
        "    plt.grid(alpha=0.3)\n",
        "    R2 = mpatches.Patch(label=\"R2={:04.2f}\".format(R2))\n",
        "    rmse = mpatches.Patch(label=\"RMSE={:04.2f}\".format(rmse))\n",
        "    plt.legend(handles=[R2, rmse])"
      ],
      "metadata": {
        "id": "bkI1IpeAhBAJ"
      },
      "execution_count": null,
      "outputs": []
    },
    {
      "cell_type": "code",
      "source": [
        "from sklearn.impute import SimpleImputer\n",
        "\n",
        "# Calculate molecular descriptors for the test data\n",
        "#Mol_descriptors_test, desc_names_test = RDkit_descriptors(data_dl[\"SMILES\"])\n",
        "#data_dl_descriptors = pd.DataFrame(Mol_descriptors_test, columns=desc_names_test)\n",
        "\n",
        "# Impute missing values in the test data\n",
        "imputer = SimpleImputer(strategy='mean')\n",
        "x_scaled_test_imputed = imputer.fit_transform(data_dl_descriptors)\n",
        "\n",
        "# Check the number of features in the training data (assuming it's the same as the model's expected features)\n",
        "num_train_features = x_train_scaled.shape[1]\n",
        "\n",
        "# If the number of features in the test data does not match the number of features in the training data,\n",
        "# adjust the test data accordingly\n",
        "if x_scaled_test_imputed.shape[1] != num_train_features:\n",
        "    if x_scaled_test_imputed.shape[1] < num_train_features:\n",
        "        # Add dummy columns for missing features\n",
        "        num_missing_features = num_train_features - x_scaled_test_imputed.shape[1]\n",
        "        dummy_columns = np.zeros((x_scaled_test_imputed.shape[0], num_missing_features))\n",
        "        x_scaled_test_adjusted = np.hstack((x_scaled_test_imputed, dummy_columns))\n",
        "    elif x_scaled_test_imputed.shape[1] > num_train_features:\n",
        "        # Remove excess features\n",
        "        x_scaled_test_adjusted = x_scaled_test_imputed[:, :num_train_features]\n",
        "else:\n",
        "    x_scaled_test_adjusted = x_scaled_test_imputed\n",
        "\n",
        "# Predict solubility of the adjusted test data\n",
        "y_test_preds = modelRF.predict(x_scaled_test_adjusted)"
      ],
      "metadata": {
        "id": "x4SrRw_Ciz8H"
      },
      "execution_count": null,
      "outputs": []
    },
    {
      "cell_type": "markdown",
      "source": [
        "Let's plot the predicted logS of the validation set and see if our model works."
      ],
      "metadata": {
        "id": "WhzLJ-SyR-ru"
      }
    },
    {
      "cell_type": "code",
      "source": [
        "# Plotting testing set\n",
        "sn.set_theme(style=\"whitegrid\")\n",
        "plot_data_RF(data_dl[\"LogS exp (mol/L)\"], y_test_preds,\n",
        "           \"Test data: Drug-like Molecules\")"
      ],
      "metadata": {
        "id": "z4RdYWfroasd"
      },
      "execution_count": null,
      "outputs": []
    },
    {
      "cell_type": "code",
      "source": [
        "# Standard scaler - transform\n",
        "x_scaled_test = scaler.transform(data_dl_descriptors)\n",
        "\n",
        "# Predict solubility of the test data\n",
        "y_test_preds = modelRF.predict(x_scaled_test)\n"
      ],
      "metadata": {
        "id": "ONSdyrGvo80R"
      },
      "execution_count": null,
      "outputs": []
    },
    {
      "cell_type": "markdown",
      "source": [
        "#8. Saving of the trained model and standard scaler"
      ],
      "metadata": {
        "id": "dG-nNTVGJGQJ"
      }
    },
    {
      "cell_type": "code",
      "source": [
        "#Save the model and the scaler using pickel\n",
        "import pickle\n",
        "with open(\"model_LGBM.pkl\",\"wb\") as f:\n",
        "    pickle.dump(model,f)\n",
        "\n",
        "with open(\"scaler_LGBM.pkl\",\"wb\") as f:\n",
        "    pickle.dump(custom_scaler,f)"
      ],
      "metadata": {
        "id": "LBUk2hL7JdwC"
      },
      "execution_count": null,
      "outputs": []
    },
    {
      "cell_type": "markdown",
      "source": [
        "#9. Using the .pkl file"
      ],
      "metadata": {
        "id": "xBtgUDV_aU54"
      }
    },
    {
      "cell_type": "code",
      "source": [
        "import pickle\n",
        "from sklearn import model # Import your specific model\n",
        "\n",
        "# Load the pickle file\n",
        "with open('your_model.pkl', 'rb') as file:\n",
        "    loaded_model = pickle.load(file)"
      ],
      "metadata": {
        "id": "Yan4kBMnaeeu"
      },
      "execution_count": null,
      "outputs": []
    }
  ]
}